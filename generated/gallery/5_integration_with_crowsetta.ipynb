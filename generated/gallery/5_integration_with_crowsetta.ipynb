{
  "cells": [
    {
      "cell_type": "code",
      "execution_count": null,
      "metadata": {
        "collapsed": false
      },
      "outputs": [],
      "source": [
        "%matplotlib inline"
      ]
    },
    {
      "cell_type": "markdown",
      "metadata": {},
      "source": [
        "# Integrating Crowsetta with Soundevent\n\n[Crowsetta](https://crowsetta.readthedocs.io/en/latest/) is a versatile Python\ntool designed for handling annotations of animal vocalizations and bioacoustics\ndata. If you're working with diverse annotation formats Crowsetta has you\ncovered. Soundevent complements this functionality with its\n`soundevent.io.crowsetta` module, offering a convenient solution for converting\nbetween Crowsetta and Soundevent formats.\n\nIn this guide, we'll walk through the process of using Crowsetta to load\nannotations and then converting them to Soundevent format using the\n[`soundevent.io.crowsetta`][soundevent.io.crowsetta] module.\n\n???+ info \"Usage details\"\n\n    To use the `soundevent.io.crowsetta` module you need to install some\n    additional dependencies. You can do this by running the following\n    command:\n\n    ```bash\n    pip install soundevent[crowsetta]\n    ```\n\n## Loading annotations with `crowsetta`\n\nTo begin our journey, let's delve into loading annotations using Crowsetta.\n\n### Crowsetta supported formats\n\nCrowsetta offers support for various annotation formats. Let's explore the\navailable formats:\n"
      ]
    },
    {
      "cell_type": "code",
      "execution_count": null,
      "metadata": {
        "collapsed": false
      },
      "outputs": [],
      "source": [
        "import crowsetta\n\nprint(crowsetta.data.available_formats())"
      ]
    },
    {
      "cell_type": "markdown",
      "metadata": {},
      "source": [
        "### Loading Example Raven Annotations\n\nLet's walk through the process of loading example Raven annotations using\nCrowsetta.\n\n"
      ]
    },
    {
      "cell_type": "code",
      "execution_count": null,
      "metadata": {
        "collapsed": false
      },
      "outputs": [],
      "source": [
        "import os\nimport tempfile\n\nwith tempfile.TemporaryDirectory() as tmpdirname:\n    # Extract the example data files to a temporary directory\n    data_dir = os.path.join(tmpdirname, \"crowsetta_data\")\n    crowsetta.data.extract_data_files(user_data_dir=data_dir)\n\n    # Select a Raven example file\n    example_file = crowsetta.data.get(\"raven\", user_data_dir=data_dir)\n\n    # Create a Raven transcriber\n    transcriber = crowsetta.Transcriber(\"raven\")\n\n    # Load the Raven annotations\n    # For this example, we assume the annotations correspond to a test audio\n    # file.\n    raven_annotations = transcriber.from_file(\n        example_file.annot_path,\n        annot_col=\"Species\",\n        audio_path=\"sample_audio.wav\",\n    )\n\n    print(raven_annotations)\n\n    # Convert the annotations to the standard crowsetta format\n    annotations = raven_annotations.to_annot()\n\nprint(f\"Citation: {example_file.citation}\")\nprint(f\"Loaded {len(annotations.bboxes)} bounding box annotations\")\nprint(\"Notated file: \", annotations.notated_path)"
      ]
    },
    {
      "cell_type": "markdown",
      "metadata": {},
      "source": [
        "## Converting to Soundevent format\n\nHaving successfully loaded the annotations using Crowsetta, we're now ready\nto convert them to Soundevent format.\n\n"
      ]
    },
    {
      "cell_type": "code",
      "execution_count": null,
      "metadata": {
        "collapsed": false
      },
      "outputs": [],
      "source": [
        "import soundevent.io.crowsetta as cr\n\n# Convert Crowsetta Annotations to Soundevent ClipAnnotation\nclip_annotation = cr.annotation_to_clip_annotation(annotations)\n\n# Print JSON representation of the ClipAnnotation object\nprint(\n    clip_annotation.model_dump_json(\n        indent=2,\n        # Avoid printing irrelevant information\n        exclude_none=True,\n        exclude_defaults=True,\n        exclude_unset=True,\n    )\n)"
      ]
    },
    {
      "cell_type": "markdown",
      "metadata": {},
      "source": [
        "And that's it! We have successfully loaded annotations using `crowsetta` and\nconverted them to `soundevent` format.\n\n"
      ]
    },
    {
      "cell_type": "markdown",
      "metadata": {},
      "source": [
        "## Converting back to `crowsetta` format\n\nNow, let's explore the process of converting Soundevent annotations back to\nCrowsetta objects.\n\n"
      ]
    },
    {
      "cell_type": "code",
      "execution_count": null,
      "metadata": {
        "collapsed": false
      },
      "outputs": [],
      "source": [
        "from soundevent.data import (\n    BoundingBox,\n    Clip,\n    ClipAnnotation,\n    Recording,\n    SoundEvent,\n    SoundEventAnnotation,\n    Tag,\n)\n\n# First, let's create some annotations for the example audio file\nrecording = Recording.from_file(\"sample_audio.wav\")\n\nclip_annotation = ClipAnnotation(\n    clip=Clip(\n        recording=recording,\n        start_time=0,\n        end_time=1,\n    ),\n    sound_events=[\n        SoundEventAnnotation(\n            tags=[\n                Tag(key=\"species\", value=\"bird\"),\n                Tag(key=\"color\", value=\"red\"),\n            ],\n            sound_event=SoundEvent(\n                recording=recording,\n                geometry=BoundingBox(coordinates=[0.1, 2000, 0.2, 3000]),\n            ),\n        ),\n        SoundEventAnnotation(\n            tags=[Tag(key=\"species\", value=\"frog\")],\n            sound_event=SoundEvent(\n                recording=recording,\n                geometry=BoundingBox(coordinates=[0.3, 1000, 0.6, 1500]),\n            ),\n        ),\n    ],\n)"
      ]
    },
    {
      "cell_type": "markdown",
      "metadata": {},
      "source": [
        "Now, let's convert the ClipAnnotation object to Crowsetta format\n\n"
      ]
    },
    {
      "cell_type": "code",
      "execution_count": null,
      "metadata": {
        "collapsed": false
      },
      "outputs": [],
      "source": [
        "annotations = cr.annotation_from_clip_annotation(\n    clip_annotation,\n    \"random_file_path.txt\",\n    annotation_fmt=\"bbox\",\n)\n\nprint(annotations)"
      ]
    },
    {
      "cell_type": "markdown",
      "metadata": {},
      "source": [
        "!!! note\n\n    While working with `crowsetta`, annotation objects are typically loaded\n    from a file. In this demonstration, we're using a random file name to\n    instantiate the annotations, even though the file doesn't exist. It's\n    important to note that `crowsetta` requires a file path to create\n    annotations, even if they are not actually written to the file.\n    Therefore, using a random filepath is a safe practice.\n\n"
      ]
    },
    {
      "cell_type": "markdown",
      "metadata": {},
      "source": [
        "## Finer Control\n\nWhen converting between crowsetta and soundevent formats, you have a\nmultitude of options at your disposal. Soundevent objects can contain a\nwealth of information beyond what crowsetta objects offer, including multiple\ntags, notes, various geometry types, and more. Consequently, the conversion\nprocess isn't always straightforward. Particularly when converting from\nsoundevent to crowsetta format, you'll need to make decisions regarding how\nto handle the additional information.\n\n"
      ]
    },
    {
      "cell_type": "markdown",
      "metadata": {},
      "source": [
        "### Tags and Labels\n\nOne of the primary distinctions between crowsetta and soundevent lies in\ntheir handling of labels/tags. While crowsetta employs a single textual label\nfor each annotation, soundevent utilizes a list of key-value tags. This\ndifference complicates the conversion process.\n\n"
      ]
    },
    {
      "cell_type": "markdown",
      "metadata": {},
      "source": [
        "By default, when converting to crowsetta format, the label field of the\ncrowsetta annotation gets converted to a single tag with the key `crowsetta`\nand the value of the label field. However, numerous customization options are\navailable to tailor this behavior. Refer to the\n[documentation][soundevent.io.crowsetta.label_to_tags] for more information.\n\n"
      ]
    },
    {
      "cell_type": "code",
      "execution_count": null,
      "metadata": {
        "collapsed": false
      },
      "outputs": [],
      "source": [
        "label = \"bird\"\ntags = cr.label_to_tags(label)\nprint(tags)"
      ]
    },
    {
      "cell_type": "markdown",
      "metadata": {},
      "source": [
        "In the reverse direction, the default behavior amalgamates all tags into a\nsingle label. For example:\n\n"
      ]
    },
    {
      "cell_type": "code",
      "execution_count": null,
      "metadata": {
        "collapsed": false
      },
      "outputs": [],
      "source": [
        "tags = [\n    Tag(key=\"species\", value=\"bird\"),\n    Tag(key=\"color\", value=\"red\"),\n]\nlabel = cr.label_from_tags(tags)\nprint(label)"
      ]
    },
    {
      "cell_type": "markdown",
      "metadata": {},
      "source": [
        "Once again, you have the option to customize this behavior. Refer to the\n[documentation][soundevent.io.crowsetta.label_from_tags] for more information.\n\n"
      ]
    }
  ],
  "metadata": {
    "kernelspec": {
      "display_name": "Python 3",
      "language": "python",
      "name": "python3"
    },
    "language_info": {
      "codemirror_mode": {
        "name": "ipython",
        "version": 3
      },
      "file_extension": ".py",
      "mimetype": "text/x-python",
      "name": "python",
      "nbconvert_exporter": "python",
      "pygments_lexer": "ipython3",
      "version": "3.9.23"
    }
  },
  "nbformat": 4,
  "nbformat_minor": 0
}