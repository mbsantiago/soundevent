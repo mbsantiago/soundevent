{
  "cells": [
    {
      "cell_type": "code",
      "execution_count": null,
      "metadata": {
        "collapsed": false
      },
      "outputs": [],
      "source": [
        "%matplotlib inline"
      ]
    },
    {
      "cell_type": "markdown",
      "metadata": {},
      "source": [
        "\n# Acoustic Objects\n\nHere we showcase the different objects that are defined\nwithin `soundevent`.\n"
      ]
    },
    {
      "cell_type": "markdown",
      "metadata": {},
      "source": [
        "## The data module\n\nAll you need to do is import the `data` module from `soundevent`.\n\n"
      ]
    },
    {
      "cell_type": "code",
      "execution_count": null,
      "metadata": {
        "collapsed": false
      },
      "outputs": [],
      "source": [
        "from soundevent import data"
      ]
    },
    {
      "cell_type": "markdown",
      "metadata": {},
      "source": [
        "## Geometries\n\nHere we showcase the different geometries that are defined\nwithin `soundevent`.\n\n!!! warning\n\n    All the geometry coordinates should be provided in seconds and Hz.\n\n"
      ]
    },
    {
      "cell_type": "markdown",
      "metadata": {},
      "source": [
        "### TimeStamp\nA `TimeStamp` is defined by a point in time relative to the start of the\nrecording.\n\n"
      ]
    },
    {
      "cell_type": "code",
      "execution_count": null,
      "metadata": {
        "collapsed": false
      },
      "outputs": [],
      "source": [
        "time_stamp = data.TimeStamp(\n    coordinates=0.1,\n)\nprint(time_stamp.model_dump_json(indent=2))"
      ]
    },
    {
      "cell_type": "markdown",
      "metadata": {},
      "source": [
        "### TimeInterval\nA `TimeInterval` consists of two points in time to mark the start and end of\nan interval.\n\n"
      ]
    },
    {
      "cell_type": "code",
      "execution_count": null,
      "metadata": {
        "collapsed": false
      },
      "outputs": [],
      "source": [
        "time_interval = data.TimeInterval(\n    coordinates=[0.1, 0.2],\n)\nprint(time_interval.model_dump_json(indent=2))"
      ]
    },
    {
      "cell_type": "markdown",
      "metadata": {},
      "source": [
        "### Point\nA `Point` is a point in time and frequency.\n\n"
      ]
    },
    {
      "cell_type": "code",
      "execution_count": null,
      "metadata": {
        "collapsed": false
      },
      "outputs": [],
      "source": [
        "point = data.Point(\n    coordinates=[0.1, 2000],\n)\nprint(point.model_dump_json(indent=2))"
      ]
    },
    {
      "cell_type": "markdown",
      "metadata": {},
      "source": [
        "### BoundingBox\n\n"
      ]
    },
    {
      "cell_type": "code",
      "execution_count": null,
      "metadata": {
        "collapsed": false
      },
      "outputs": [],
      "source": [
        "box = data.BoundingBox(\n    coordinates=[0.1, 2000, 0.2, 3000],\n)\nprint(box.model_dump_json(indent=2))"
      ]
    },
    {
      "cell_type": "markdown",
      "metadata": {},
      "source": [
        "A `LineString` is a sequence of points that are connected by a line.\n\n"
      ]
    },
    {
      "cell_type": "code",
      "execution_count": null,
      "metadata": {
        "collapsed": false
      },
      "outputs": [],
      "source": [
        "line = data.LineString(\n    coordinates=[[0.1, 2000], [0.2, 4000]],\n)\nprint(line.model_dump_json(indent=2))"
      ]
    },
    {
      "cell_type": "markdown",
      "metadata": {},
      "source": [
        "A `Polygon`\n\n"
      ]
    },
    {
      "cell_type": "code",
      "execution_count": null,
      "metadata": {
        "collapsed": false
      },
      "outputs": [],
      "source": [
        "polygon = data.Polygon(\n    coordinates=[\n        [\n            [0.1, 2000],\n            [0.2, 3000],\n            [0.3, 2000],\n            [0.2, 1000],\n            [0.1, 2000],\n        ],\n        [\n            [0.15, 2000],\n            [0.25, 2000],\n            [0.2, 1500],\n            [0.15, 2000],\n        ],\n    ],\n)\nprint(polygon.model_dump_json(indent=2))"
      ]
    }
  ],
  "metadata": {
    "kernelspec": {
      "display_name": "Python 3",
      "language": "python",
      "name": "python3"
    },
    "language_info": {
      "codemirror_mode": {
        "name": "ipython",
        "version": 3
      },
      "file_extension": ".py",
      "mimetype": "text/x-python",
      "name": "python",
      "nbconvert_exporter": "python",
      "pygments_lexer": "ipython3",
      "version": "3.9.23"
    }
  },
  "nbformat": 4,
  "nbformat_minor": 0
}