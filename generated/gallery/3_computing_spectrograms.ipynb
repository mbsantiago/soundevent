{
  "cells": [
    {
      "cell_type": "code",
      "execution_count": null,
      "metadata": {
        "collapsed": false
      },
      "outputs": [],
      "source": [
        "%matplotlib inline"
      ]
    },
    {
      "cell_type": "markdown",
      "metadata": {},
      "source": [
        "\n# Computing spectrograms\n\nAfter audio loading one of the most common operations within audio analysis\nis to compute spectral representations of the audio signal. These attempt to\ndescribe the signal in terms of its frequency content over time.\n\nThe most common spectral representation is the spectrogram. This is a\ntwo-dimensional representation of the signal that shows the frequency content\nof the signal over time. The spectrogram is computed by taking the short-time\nFourier transform (STFT) of the signal.\n\nHere we will show how to compute spectrograms using the\n[`audio.compute_spectrogram`][soundevent.audio.compute_spectrogram] function.\n"
      ]
    },
    {
      "cell_type": "markdown",
      "metadata": {},
      "source": [
        "First, we will load a recording. We will use the\nthe example recording from the (audio loading tutorial)[audio_loading].\n\n"
      ]
    },
    {
      "cell_type": "code",
      "execution_count": null,
      "metadata": {
        "collapsed": false
      },
      "outputs": [],
      "source": [
        "from soundevent import arrays, audio, data\n\nrecording = data.Recording.from_file(\"sample_audio.wav\")\nwave = audio.load_recording(recording)\nprint(wave)"
      ]
    },
    {
      "cell_type": "markdown",
      "metadata": {},
      "source": [
        "Next, we will compute the spectrogram. Notice the spectrogram\nparameters are specified in terms of time, not samples. This is\nto facilitate working with audio signals that have different\nsample rates.\n\n"
      ]
    },
    {
      "cell_type": "code",
      "execution_count": null,
      "metadata": {
        "collapsed": false
      },
      "outputs": [],
      "source": [
        "spectrogram = audio.compute_spectrogram(\n    wave,\n    window_size=0.064,\n    hop_size=0.032,\n)\nprint(spectrogram)"
      ]
    },
    {
      "cell_type": "markdown",
      "metadata": {},
      "source": [
        "Notice that the spectrogram is a three-dimensional\n[`xarray.DataArray`][xarray.DataArray]. The first dimension is\n*frequency*, the second is *time*, and the third is *channel*. The\nspectrogram is computed separately for each channel of the audio\nsignal.\n\nOne of the nice things about using xarray is that it allows us to\neasily plot the spectrogram using the built-in plotting functions.\n\n"
      ]
    },
    {
      "cell_type": "code",
      "execution_count": null,
      "metadata": {
        "collapsed": false
      },
      "outputs": [],
      "source": [
        "spectrogram.plot()"
      ]
    },
    {
      "cell_type": "markdown",
      "metadata": {},
      "source": [
        "The initial plot is hard to interpret due to the linear scale. Decibels (dB) \nare more perceptually relevant for sound.\nLet's convert it to decibels using the\n[`arrays.to_db`][soundevent.arrays.to_db] function.\n\n"
      ]
    },
    {
      "cell_type": "code",
      "execution_count": null,
      "metadata": {
        "collapsed": false
      },
      "outputs": [],
      "source": [
        "spectrogram_db = arrays.to_db(spectrogram)\nspectrogram_db.plot()"
      ]
    },
    {
      "cell_type": "markdown",
      "metadata": {},
      "source": [
        "This is much better! We can now clearly see the frequency\ncontent evolving over time.\n\nTo make subtle details even more apparent, we can apply a\nde-noising technique like PCEN (Per-Channel Energy\nNormalization). PCEN helps reduce background noise and\nenhance the target sounds. We can apply PCEN using the\n[`audio.pcen`][soundevent.audio.pcen] function.\n\n"
      ]
    },
    {
      "cell_type": "code",
      "execution_count": null,
      "metadata": {
        "collapsed": false
      },
      "outputs": [],
      "source": [
        "pcen = audio.pcen(spectrogram)\npcen_db = arrays.to_db(pcen)\npcen_db.plot()"
      ]
    },
    {
      "cell_type": "markdown",
      "metadata": {},
      "source": [
        "In this case the PCEN transformation has not made a huge\ndifference, but it can be very useful in other cases.\n\n"
      ]
    }
  ],
  "metadata": {
    "kernelspec": {
      "display_name": "Python 3",
      "language": "python",
      "name": "python3"
    },
    "language_info": {
      "codemirror_mode": {
        "name": "ipython",
        "version": 3
      },
      "file_extension": ".py",
      "mimetype": "text/x-python",
      "name": "python",
      "nbconvert_exporter": "python",
      "pygments_lexer": "ipython3",
      "version": "3.9.23"
    }
  },
  "nbformat": 4,
  "nbformat_minor": 0
}