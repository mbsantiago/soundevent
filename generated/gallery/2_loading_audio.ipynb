{
  "cells": [
    {
      "cell_type": "code",
      "execution_count": null,
      "metadata": {
        "collapsed": false
      },
      "outputs": [],
      "source": [
        "%matplotlib inline"
      ]
    },
    {
      "cell_type": "markdown",
      "metadata": {},
      "source": [
        "\n# Loading audio\n\nOne of the fundamental operations in computational bioacoustics is **reading**\naudio files into a workable format. In `soundevent`, we use\n[`xarray.DataArray`][xarray.DataArray] objects to hold loaded audio data.\n[`xarray.DataArray`][xarray.DataArray] objects are an extension of\n[`numpy`][numpy.ndarray] arrays, so there's no need to learn new concepts\nif you are already familiar with [`numpy`][numpy.ndarray] arrays.\n\n\n!!! note \"Why use `xarray.DataArray` objects?\"\n\n    `xarray.DataArray` objects offer two key benefits: coordinates for easier\n    referencing of time-related locations in the array, and the ability to\n    store additional metadata such as `samplerate`, `time_expansion`, and\n    specify that the temporal units are seconds. To learn more about\n    `xarray.DataArray` objects, see the\n    [xarray documentation](https://docs.xarray.dev/en/stable/getting-started-guide/why-xarray.html).\n\n\n!!! note \"Supported audio formats\"\n\n    `soundevent` supports most of the audio file formats supported by the\n    [`soundfile`](https://python-soundfile.readthedocs.io/) library. Some\n    formats were excluded because they do not support seeking and are not\n    suitable for random access. This still includes most of the common audio\n    file formats, such as WAV, FLAC, AIFF, and MP3. For a full list of\n    supported formats, see the\n    [audio.is_audio_file][soundevent.audio.is_audio_file] documentation.\n"
      ]
    },
    {
      "cell_type": "markdown",
      "metadata": {},
      "source": [
        "## Getting a Recording object\nTo create a [`data.Recording`][soundevent.data.Recording] object from an\naudio file, you can use the\n[`from_file`][soundevent.data.Recording.from_file] method. This method\nextracts the metadata from the file and populates the `Recording` object with\nthe relevant information.\n\n"
      ]
    },
    {
      "cell_type": "code",
      "execution_count": null,
      "metadata": {
        "collapsed": false
      },
      "outputs": [],
      "source": [
        "from soundevent import data\n\nrecording = data.Recording.from_file(\"sample_audio.wav\")\nprint(repr(recording))"
      ]
    },
    {
      "cell_type": "markdown",
      "metadata": {},
      "source": [
        "## Loading the audio\nOnce you have a [`data.Recording`][soundevent.data.Recording] object, you can\nload the audio data using the\n[`audio.load_recording`][soundevent.audio.load_recording] function:\n\n"
      ]
    },
    {
      "cell_type": "code",
      "execution_count": null,
      "metadata": {
        "collapsed": false
      },
      "outputs": [],
      "source": [
        "from soundevent import audio\n\nwav = audio.load_recording(recording)\nprint(wav)"
      ]
    },
    {
      "cell_type": "markdown",
      "metadata": {},
      "source": [
        "Note that the returned object is an [`xarray.DataArray`][xarray.DataArray]\nobject with two dimensions: time and channel. The time coordinate represents\nthe array of times in seconds corresponding to the samples in the\nxarray.DataArray object.\n\n"
      ]
    },
    {
      "cell_type": "markdown",
      "metadata": {},
      "source": [
        "## Selecting clips from a recording\nYou can use the [`sel`][xarray.DataArray.sel] method of xarray.DataArray to\nselect a clip from the recording. This is useful when you have the full file\nloaded into memory and want to extract a specific clip:\n\n"
      ]
    },
    {
      "cell_type": "code",
      "execution_count": null,
      "metadata": {
        "collapsed": false
      },
      "outputs": [],
      "source": [
        "# You can select a clip by specifying the start and end times in seconds.\nsubwav = wav.sel(time=slice(0, 1))\nprint(repr(subwav))"
      ]
    },
    {
      "cell_type": "markdown",
      "metadata": {},
      "source": [
        "Alternatively, if you only need to load a clip from the file without loading\nthe entire file into memory, you can use the\n[`audio.load_clip`][soundevent.audio.load_clip] function:\n\n"
      ]
    },
    {
      "cell_type": "code",
      "execution_count": null,
      "metadata": {
        "collapsed": false
      },
      "outputs": [],
      "source": [
        "clip = data.Clip(\n    recording=recording,\n    start_time=0,\n    end_time=1,\n)\nsubwav2 = audio.load_clip(clip)\nprint(repr(subwav2))"
      ]
    },
    {
      "cell_type": "markdown",
      "metadata": {},
      "source": [
        "In most cases, the results from `wav.sel` and `audio.load_clip` will be the\nsame, except for the last sample. However, the difference is negligible, and\nthe [`audio.load_clip`][soundevent.audio.load_clip] function is generally\npreferred for efficiency.\n\nYou can verify the similarity of the clips:\n\n"
      ]
    },
    {
      "cell_type": "code",
      "execution_count": null,
      "metadata": {
        "collapsed": false
      },
      "outputs": [],
      "source": [
        "import numpy as np\n\nprint(np.allclose(subwav[:-1], subwav2))"
      ]
    }
  ],
  "metadata": {
    "kernelspec": {
      "display_name": "Python 3",
      "language": "python",
      "name": "python3"
    },
    "language_info": {
      "codemirror_mode": {
        "name": "ipython",
        "version": 3
      },
      "file_extension": ".py",
      "mimetype": "text/x-python",
      "name": "python",
      "nbconvert_exporter": "python",
      "pygments_lexer": "ipython3",
      "version": "3.9.23"
    }
  },
  "nbformat": 4,
  "nbformat_minor": 0
}