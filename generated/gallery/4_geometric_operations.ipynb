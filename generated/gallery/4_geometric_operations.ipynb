{
  "cells": [
    {
      "cell_type": "code",
      "execution_count": null,
      "metadata": {
        "collapsed": false
      },
      "outputs": [],
      "source": [
        "%matplotlib inline"
      ]
    },
    {
      "cell_type": "markdown",
      "metadata": {},
      "source": [
        "# Geometric Operations\n\nSound events are naturally spatial object defined by their location in both\ntime and frequency. The soundevent's geometry module provides tools to\nmanipulate the geometry of the sound events, facilitating the analysis of\nacoustic data.\n\n???+ info \"Usage details\"\n\n    To use the `soundevent.geometry` module you need to install some\n    additional dependencies. You can do this by running the following\n    command:\n\n    ```bash\n    pip install soundevent[geometry]\n    ```\n\n## Understanding Geometric Operations\n\nGeometric operations provide essential tools to conduct sound event analysis:\n\n1. **Buffering**: Expand sound event boundaries, accommodating uncertainties\ninherent in annotations.\n2. **Clipping**: Remove unwanted sections.\n3. **Spatial Relationships**: Determine overlaps, containment, and distances\nbetween sound events, aiding in comparative analysis.\n\nHere we will explore the geometric operations that can be applied to sound\nevents and how they can be used to analyze and compare sound events.\n"
      ]
    },
    {
      "cell_type": "code",
      "execution_count": null,
      "metadata": {
        "collapsed": false
      },
      "outputs": [],
      "source": [
        "from soundevent import data, geometry\n\ngeom = data.Polygon(coordinates=[[[1, 2], [4, 3], [5, 6], [1, 2]]])\ngeom"
      ]
    },
    {
      "cell_type": "code",
      "execution_count": null,
      "metadata": {
        "collapsed": false
      },
      "outputs": [],
      "source": [
        "buffered = geometry.buffer_geometry(geom, time_buffer=1, freq_buffer=0.5)\nbuffered"
      ]
    },
    {
      "cell_type": "markdown",
      "metadata": {},
      "source": [
        "## Datasets\n\n"
      ]
    }
  ],
  "metadata": {
    "kernelspec": {
      "display_name": "Python 3",
      "language": "python",
      "name": "python3"
    },
    "language_info": {
      "codemirror_mode": {
        "name": "ipython",
        "version": 3
      },
      "file_extension": ".py",
      "mimetype": "text/x-python",
      "name": "python",
      "nbconvert_exporter": "python",
      "pygments_lexer": "ipython3",
      "version": "3.9.23"
    }
  },
  "nbformat": 4,
  "nbformat_minor": 0
}